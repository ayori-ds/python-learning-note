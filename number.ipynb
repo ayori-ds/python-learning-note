{
  "cells": [
    {
      "cell_type": "markdown",
      "id": "20a5d2e7",
      "metadata": {},
      "source": [
        "# pythonの四則演算問題集\n",
        "\n",
        "このノートブックは **知識を問う数値計算問題** を扱います。<br>  "
      ]
    },
    {
      "cell_type": "markdown",
      "id": "c62ea24f",
      "metadata": {},
      "source": [
        "## Q1: 50 − 5×6 を計算し、その結果を 4 で割れ。"
      ]
    },
    {
      "cell_type": "code",
      "execution_count": null,
      "id": "28a63521",
      "metadata": {},
      "outputs": [],
      "source": []
    },
    {
      "cell_type": "markdown",
      "id": "76be643c",
      "metadata": {},
      "source": [
        "<details>\n",
        "<summary>解答を見る</summary>\n",
        "\n",
        "```python\n",
        "print(50 - 5*6)\n",
        "print((50 - 5*6) / 4)\n",
        "```\n",
        "\n",
        "</details>"
      ]
    },
    {
      "cell_type": "markdown",
      "id": "9fc71b38",
      "metadata": {},
      "source": [
        "## Q2: 17 を 3 で割ったときの 1) 商（小数） 2) 商（整数部のみ） 3) 余り を求めよ。"
      ]
    },
    {
      "cell_type": "code",
      "execution_count": null,
      "id": "7b993e19",
      "metadata": {},
      "outputs": [],
      "source": []
    },
    {
      "cell_type": "markdown",
      "id": "97e0960c",
      "metadata": {},
      "source": [
        "<details>\n",
        "<summary>解答を見る</summary>\n",
        "\n",
        "```python\n",
        "print(17 / 3)\n",
        "print(17 // 3)\n",
        "print(17 % 3)\n",
        "```\n",
        "\n",
        "</details>"
      ]
    },
    {
      "cell_type": "markdown",
      "id": "c9715f12",
      "metadata": {},
      "source": [
        "## Q3: 5 の 2 乗と 2 の 7 乗を計算せよ。"
      ]
    },
    {
      "cell_type": "code",
      "execution_count": null,
      "id": "4bd14763",
      "metadata": {},
      "outputs": [],
      "source": []
    },
    {
      "cell_type": "markdown",
      "id": "35893308",
      "metadata": {},
      "source": [
        "<details>\n",
        "<summary>解答を見る</summary>\n",
        "\n",
        "```python\n",
        "print(5 ** 2)\n",
        "print(2 ** 7)\n",
        "```\n",
        "\n",
        "</details>"
      ]
    },
    {
      "cell_type": "markdown",
      "id": "b9756148",
      "metadata": {},
      "source": [
        "## Q4: 幅 20、高さ 5×9 の長方形の面積を求めよ。"
      ]
    },
    {
      "cell_type": "code",
      "execution_count": null,
      "id": "a6d48ed3",
      "metadata": {},
      "outputs": [],
      "source": []
    },
    {
      "cell_type": "markdown",
      "id": "5b4ae7a4",
      "metadata": {},
      "source": [
        "<details>\n",
        "<summary>解答を見る</summary>\n",
        "\n",
        "```python\n",
        "width = 20\n",
        "height = 5 * 9\n",
        "print(width * height)\n",
        "```\n",
        "\n",
        "</details>"
      ]
    },
    {
      "cell_type": "markdown",
      "id": "ea7979fb",
      "metadata": {},
      "source": [
        "## Q5: 4 × 3.75 − 1 を計算し、その結果の型を表示せよ。"
      ]
    },
    {
      "cell_type": "code",
      "execution_count": null,
      "id": "a0e9f956",
      "metadata": {},
      "outputs": [],
      "source": []
    },
    {
      "cell_type": "markdown",
      "id": "2973d5b2",
      "metadata": {},
      "source": [
        "<details>\n",
        "<summary>解答を見る</summary>\n",
        "\n",
        "```python\n",
        "ans = 4 * 3.75 -1\n",
        "print(ans)\n",
        "print(type(ans))\n",
        "```\n",
        "\n",
        "</details>"
      ]
    },
    {
      "cell_type": "markdown",
      "id": "05a1f9c7",
      "metadata": {},
      "source": [
        "## Q6: 合計金額 1000 円を 3 人で等分したときの 1 人あたりの金額を求め、小数点以下 2 桁に丸めよ。"
      ]
    },
    {
      "cell_type": "code",
      "execution_count": null,
      "id": "9fb85d89",
      "metadata": {},
      "outputs": [],
      "source": []
    },
    {
      "cell_type": "markdown",
      "id": "26d90ae5",
      "metadata": {},
      "source": [
        "<details>\n",
        "<summary>解答を見る</summary>\n",
        "\n",
        "```python\n",
        "total = 1000\n",
        "people = 3\n",
        "share = total / people\n",
        "print(round(share, 2)) \n",
        "\n",
        "```\n",
        "\n",
        "</details>"
      ]
    }
  ],
  "metadata": {
    "kernelspec": {
      "display_name": "Python 3",
      "language": "python",
      "name": "python3"
    },
    "language_info": {
      "name": "python",
      "version": "3.11.8"
    }
  },
  "nbformat": 4,
  "nbformat_minor": 5
}
