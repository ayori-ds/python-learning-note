{
 "cells": [
  {
   "cell_type": "markdown",
   "id": "3a06602f",
   "metadata": {},
   "source": [
    "# sysモジュール問題集\n",
    "\n",
    "このノートブックでは、`sys` モジュールを実際に使いながら学びます。<br>\n",
    "すべて`sys` モジュールを使う問題です。<br>"
   ]
  },
  {
   "cell_type": "code",
   "execution_count": null,
   "id": "e60e1c91",
   "metadata": {},
   "outputs": [],
   "source": [
    "import sys"
   ]
  },
  {
   "cell_type": "markdown",
   "id": "5f398af5",
   "metadata": {},
   "source": [
    "## Q1: Pythonのバージョンを表示せよ\n",
    "どのバージョンの Python で動いているかを調べて、表示してください。"
   ]
  },
  {
   "cell_type": "code",
   "execution_count": null,
   "id": "155060fe",
   "metadata": {},
   "outputs": [],
   "source": []
  },
  {
   "cell_type": "markdown",
   "id": "451489c3",
   "metadata": {},
   "source": [
    "<details>\n",
    "<summary>解答を見る</summary>\n",
    "\n",
    "```python\n",
    "print(sys.version)\n",
    "```\n",
    "\n",
    "</details>"
   ]
  },
  {
   "cell_type": "markdown",
   "id": "ca34b55d",
   "metadata": {},
   "source": [
    "## Q2: 実行環境を表示せよ\n",
    "\n",
    "Python がどの動作環境（Windows / Linux / macOS）で動いているかを調べて表示してください。"
   ]
  },
  {
   "cell_type": "code",
   "execution_count": null,
   "id": "dd51a270",
   "metadata": {},
   "outputs": [],
   "source": []
  },
  {
   "cell_type": "markdown",
   "id": "7c8146ad",
   "metadata": {},
   "source": [
    "<details>\n",
    "<summary>解答を見る</summary>\n",
    "\n",
    "```python\n",
    "print(sys.platform)\n",
    "```\n",
    "\n",
    "</details>"
   ]
  },
  {
   "cell_type": "markdown",
   "id": "eb99a361",
   "metadata": {},
   "source": [
    "## Q3: sys.argv の要素をすべて 1 行ずつ出力せよ\n",
    "\n",
    "プログラム名を含む sys.argv の内容を先頭から順に取り出し、1 行ごとに表示してください。"
   ]
  },
  {
   "cell_type": "code",
   "execution_count": null,
   "id": "ca701071",
   "metadata": {},
   "outputs": [],
   "source": [
    "sys.argv = [\"script.py\", \"dog\", \"cat\"]\n",
    "\n",
    "# 以下に回答\n"
   ]
  },
  {
   "cell_type": "markdown",
   "id": "9595b34c",
   "metadata": {},
   "source": [
    "<details>\n",
    "<summary>解答を見る</summary>\n",
    "\n",
    "```python\n",
    "for arg in sys.argv:\n",
    "    print(arg)\n",
    "```\n",
    "\n",
    "</details>"
   ]
  },
  {
   "cell_type": "markdown",
   "id": "c89db6bb",
   "metadata": {},
   "source": [
    "## Q4: コマンドライン引数だけを表示せよ\n",
    "\n",
    "スクリプト名 (`script.py`) を除いた「実際の引数」だけを表示してください。"
   ]
  },
  {
   "cell_type": "code",
   "execution_count": null,
   "id": "50280c0a",
   "metadata": {},
   "outputs": [],
   "source": [
    "sys.argv = [\"script.py\", \"dog\", \"cat\"]\n",
    "\n",
    "# 以下に回答\n"
   ]
  },
  {
   "cell_type": "markdown",
   "id": "aa01db3e",
   "metadata": {},
   "source": [
    "<details>\n",
    "<summary>解答を見る</summary>\n",
    "\n",
    "```python\n",
    "for arg in sys.argv[1:]:\n",
    "    print(arg)\n",
    "```\n",
    "\n",
    "</details>"
   ]
  },
  {
   "cell_type": "markdown",
   "id": "ac65af44",
   "metadata": {},
   "source": [
    "## Q5: モジュールの検索パスを表示せよ\n",
    "\n",
    "Python がモジュールを読み込むときに探索するディレクトリの一覧を表示してください。"
   ]
  },
  {
   "cell_type": "code",
   "execution_count": null,
   "id": "ececc2b4",
   "metadata": {},
   "outputs": [],
   "source": [
    "# 以下に回答\n"
   ]
  },
  {
   "cell_type": "markdown",
   "id": "51b5e37d",
   "metadata": {},
   "source": [
    "<details>\n",
    "<summary>解答を見る</summary>\n",
    "\n",
    "```python\n",
    "for p in sys.path:\n",
    "    print(p)\n",
    "```\n",
    "\n",
    "</details>"
   ]
  },
  {
   "cell_type": "markdown",
   "id": "538951ff",
   "metadata": {},
   "source": [
    "## Q6: 引数に与えられた数値を平方して表示せよ\n",
    "\n",
    "コマンドラインから 1 つの数値を受け取り、その平方を計算して表示してください。"
   ]
  },
  {
   "cell_type": "code",
   "execution_count": null,
   "id": "c7175f70",
   "metadata": {},
   "outputs": [],
   "source": [
    "sys.argv = [\"square.py\", \"7\"]\n",
    "\n",
    "# 以下に回答\n"
   ]
  },
  {
   "cell_type": "markdown",
   "id": "f80dbe5e",
   "metadata": {},
   "source": [
    "<details>\n",
    "<summary>解答を見る</summary>\n",
    "\n",
    "```python\n",
    "n = int(sys.argv[1])\n",
    "print(n ** 2)\n",
    "```\n",
    "\n",
    "</details>"
   ]
  },
  {
   "cell_type": "markdown",
   "id": "e1d6b116",
   "metadata": {},
   "source": [
    "## Q7: 引数がなければプログラムを終了せよ\n",
    "\n",
    "引数が 1 つも渡されなかった場合、エラーメッセージ（引数を指定してください）を表示してプログラムを終了してください。"
   ]
  },
  {
   "cell_type": "code",
   "execution_count": null,
   "id": "80b7da65",
   "metadata": {},
   "outputs": [],
   "source": [
    "sys.argv = [\"script.py\"]\n",
    "\n",
    "# 以下に回答\n"
   ]
  },
  {
   "cell_type": "markdown",
   "id": "21228aab",
   "metadata": {},
   "source": [
    "<details>\n",
    "<summary>解答を見る</summary>\n",
    "\n",
    "```python\n",
    "if len(sys.argv) < 2:\n",
    "    print(\"引数を指定してください\")\n",
    "    sys.exit(1)\n",
    "```\n",
    "\n",
    "</details>"
   ]
  }
 ],
 "metadata": {
  "kernelspec": {
   "display_name": "env312",
   "language": "python",
   "name": "python3"
  },
  "language_info": {
   "codemirror_mode": {
    "name": "ipython",
    "version": 3
   },
   "file_extension": ".py",
   "mimetype": "text/x-python",
   "name": "python",
   "nbconvert_exporter": "python",
   "pygments_lexer": "ipython3",
   "version": "3.12.10"
  }
 },
 "nbformat": 4,
 "nbformat_minor": 5
}
