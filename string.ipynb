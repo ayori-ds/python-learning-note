{
  "cells": [
    {
      "cell_type": "markdown",
      "metadata": {},
      "source": [
        "# 文字列の問題集\n",
        "\n",
        "このノートブックは **文字列に関する知識を問う問題** を扱います。"
      ]
    },
    {
      "cell_type": "markdown",
      "metadata": {},
      "source": [
        "## Q1: 文字列 \"Hello\" をシングルクォートとダブルクォートの両方で定義し、2つが等しいことを出力で確認せよ。"
      ]
    },
    {
      "cell_type": "code",
      "execution_count": null,
      "id": "b50173fc",
      "metadata": {},
      "outputs": [],
      "source": []
    },
    {
      "cell_type": "markdown",
      "metadata": {},
      "source": [
        "<details>\n",
        "<summary>解答を見る</summary>\n",
        "\n",
        "```python\n",
        "s1 = 'Hello'\n",
        "s2 = \"Hello\"\n",
        "print(s1 == s2)\n",
        "```\n",
        "</details>"
      ]
    },
    {
      "cell_type": "markdown",
      "metadata": {},
      "source": [
        "## Q2: 文字列 \"doesn't\" を2通りで出力せよ。\n",
        "片方はエスケープ、もう片方は別のクォートを用いる"
      ]
    },
    {
      "cell_type": "code",
      "execution_count": null,
      "id": "e86089ee",
      "metadata": {},
      "outputs": [],
      "source": []
    },
    {
      "cell_type": "markdown",
      "metadata": {},
      "source": [
        "<details>\n",
        "<summary>解答を見る</summary>\n",
        "\n",
        "```python\n",
        "print('doesn\\'t')\n",
        "print(\"doesn't\")\n",
        "```\n",
        "</details>"
      ]
    },
    {
      "cell_type": "markdown",
      "metadata": {},
      "source": [
        "## Q3: s = \"First line.\\nSecond line.\" とする。以下の操作を実行せよ。\n",
        "\n",
        "1. 改行を反映した表示を出力せよ。\n",
        "2. 文字列中の \\n が見える形の表示を出力せよ。"
      ]
    },
    {
      "cell_type": "code",
      "execution_count": null,
      "id": "38771273",
      "metadata": {},
      "outputs": [],
      "source": [
        "s = \"First line.\\nSecond line.\"\n",
        "\n",
        "# 以下に回答"
      ]
    },
    {
      "cell_type": "markdown",
      "metadata": {},
      "source": [
        "<details>\n",
        "<summary>解答を見る</summary>\n",
        "\n",
        "```python\n",
        "s = \"First line.\\nSecond line.\"\n",
        "print(s)        # 改行あり\n",
        "print(repr(s))  # \\n が見える\n",
        "```\n",
        "</details>"
      ]
    },
    {
      "cell_type": "markdown",
      "metadata": {},
      "source": [
        "## Q4: Windows パス文字列 C:\\new\\test をソース上の表記どおりに出力せよ。\n",
        "通常の文字列リテラルでは \\n が改行 \\t がタブに解釈される"
      ]
    },
    {
      "cell_type": "code",
      "execution_count": null,
      "id": "4af418a0",
      "metadata": {},
      "outputs": [],
      "source": []
    },
    {
      "cell_type": "markdown",
      "metadata": {},
      "source": [
        "<details>\n",
        "<summary>解答を見る</summary>\n",
        "\n",
        "```python\n",
        "print(r\"C:\\new\\test\")\n",
        "```\n",
        "</details>"
      ]
    },
    {
      "cell_type": "markdown",
      "metadata": {},
      "source": [
        "## Q5: 次の3行からなるヘルプ文を、改行コードやエスケープを使わず、ソース上の見た目のまま出力せよ。\n",
        "\n",
        "<pre>\n",
        "Usage: thingy [OPTIONS]\n",
        "  -h            Display \"help\"\n",
        "  -H hostname   Hostname to connect to\n",
        "</pre>"
      ]
    },
    {
      "cell_type": "code",
      "execution_count": null,
      "id": "fe5838a0",
      "metadata": {},
      "outputs": [],
      "source": []
    },
    {
      "cell_type": "markdown",
      "metadata": {},
      "source": [
        "<details>\n",
        "<summary>解答を見る</summary>\n",
        "\n",
        "```python\n",
        "print(\"\"\"Usage: thingy [OPTIONS]\n",
        "  -h            Display \"help\"\n",
        "  -H hostname   Hostname to connect to\"\"\")\n",
        "```\n",
        "</details>"
      ]
    },
    {
      "cell_type": "markdown",
      "metadata": {},
      "source": [
        "## Q6: \"un\" を3回繰り返し、末尾に \"ium\" をつなげた文字列を出力せよ。"
      ]
    },
    {
      "cell_type": "code",
      "execution_count": null,
      "id": "f79be8b8",
      "metadata": {},
      "outputs": [],
      "source": []
    },
    {
      "cell_type": "markdown",
      "metadata": {},
      "source": [
        "<details>\n",
        "<summary>解答を見る</summary>\n",
        "\n",
        "```python\n",
        "print(\"un\" * 3 + \"ium\")\n",
        "```\n",
        "</details>"
      ]
    },
    {
      "cell_type": "markdown",
      "metadata": {},
      "source": [
        "## Q7: 文字列 \"Python\" の最初の文字と最後の文字を順に出力せよ。"
      ]
    },
    {
      "cell_type": "code",
      "execution_count": null,
      "id": "328b3749",
      "metadata": {},
      "outputs": [],
      "source": []
    },
    {
      "cell_type": "markdown",
      "metadata": {},
      "source": [
        "<details>\n",
        "<summary>解答を見る</summary>\n",
        "\n",
        "```python\n",
        "word = \"Python\"\n",
        "print(word[0])\n",
        "print(word[-1])\n",
        "```\n",
        "</details>"
      ]
    },
    {
      "cell_type": "markdown",
      "metadata": {},
      "source": [
        "## Q8: 文字列 \"Python\" から \"Py\" と \"tho\" をスライスで取り出し、それぞれ出力せよ。"
      ]
    },
    {
      "cell_type": "code",
      "execution_count": null,
      "id": "77f058cf",
      "metadata": {},
      "outputs": [],
      "source": []
    },
    {
      "cell_type": "markdown",
      "metadata": {},
      "source": [
        "<details>\n",
        "<summary>解答を見る</summary>\n",
        "\n",
        "```python\n",
        "word = \"Python\"\n",
        "print(word[0:2])\n",
        "print(word[2:5])\n",
        "```\n",
        "</details>"
      ]
    },
    {
      "cell_type": "markdown",
      "metadata": {},
      "source": [
        "## Q9: 文字列 \"Python\" の長さを出力せよ。"
      ]
    },
    {
      "cell_type": "code",
      "execution_count": null,
      "id": "20c199de",
      "metadata": {},
      "outputs": [],
      "source": []
    },
    {
      "cell_type": "markdown",
      "metadata": {},
      "source": [
        "<details>\n",
        "<summary>解答を見る</summary>\n",
        "\n",
        "```python\n",
        "word = \"Python\"\n",
        "print(len(word))\n",
        "```\n",
        "</details>"
      ]
    },
    {
      "cell_type": "markdown",
      "metadata": {},
      "source": [
        "## Q10: 文字列 \"Python\" の1文字目を \"J\" に置き換えた新しい文字列を作り、出力せよ。"
      ]
    },
    {
      "cell_type": "code",
      "execution_count": null,
      "id": "51b6bc11",
      "metadata": {},
      "outputs": [],
      "source": []
    },
    {
      "cell_type": "markdown",
      "metadata": {},
      "source": [
        "<details>\n",
        "<summary>解答を見る</summary>\n",
        "\n",
        "```python\n",
        "word = \"Python\"\n",
        "new_word = \"J\" + word[1:]\n",
        "print(new_word)\n",
        "```\n",
        "</details>"
      ]
    }
  ],
  "metadata": {
    "kernelspec": {
      "display_name": "env312",
      "language": "python",
      "name": "python3"
    },
    "language_info": {
      "name": "python",
      "version": "3.12.10"
    }
  },
  "nbformat": 4,
  "nbformat_minor": 5
}
