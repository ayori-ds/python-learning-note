{
  "cells": [
    {
      "cell_type": "markdown",
      "metadata": {},
      "source": [
        "# リストの問題集\n",
        "\n",
        "このノートブックは **リストに関する知識を問う問題** を扱います。"
      ]
    },
    {
      "cell_type": "markdown",
      "metadata": {},
      "source": [
        "## Q1: リスト [1, 4, 9, 16, 25] を変数を使わずそのまま出力せよ。"
      ]
    },
    {
      "cell_type": "code",
      "execution_count": null,
      "id": "3eb5a05d",
      "metadata": {},
      "outputs": [],
      "source": []
    },
    {
      "cell_type": "markdown",
      "metadata": {},
      "source": [
        "<details>\n",
        "<summary>解答を見る</summary>\n",
        "\n",
        "```python\n",
        "print([1, 4, 9, 16, 25])\n",
        "```\n",
        "</details>"
      ]
    },
    {
      "cell_type": "markdown",
      "metadata": {},
      "source": [
        "## Q2: squares = [1, 4, 9, 16, 25] の (1) 最初の要素 (2) 最後の要素 (3) 最後の3要素 を順に出力せよ。"
      ]
    },
    {
      "cell_type": "code",
      "execution_count": null,
      "id": "2c806864",
      "metadata": {},
      "outputs": [],
      "source": [
        "squares = [1, 4, 9, 16, 25]\n",
        "\n",
        "# 以下に回答"
      ]
    },
    {
      "cell_type": "markdown",
      "metadata": {},
      "source": [
        "<details>\n",
        "<summary>解答を見る</summary>\n",
        "\n",
        "```python\n",
        "squares = [1, 4, 9, 16, 25]\n",
        "print(squares[0])\n",
        "print(squares[-1])\n",
        "print(squares[-3:])\n",
        "```\n",
        "</details>"
      ]
    },
    {
      "cell_type": "markdown",
      "metadata": {},
      "source": [
        "## Q3: squares = [1, 4, 9, 16, 25] に [36, 49, 64, 81, 100] を結合して出力せよ。"
      ]
    },
    {
      "cell_type": "code",
      "execution_count": null,
      "id": "b161b12a",
      "metadata": {},
      "outputs": [],
      "source": [
        "squares = [1, 4, 9, 16, 25]\n",
        "\n",
        "# 以下に回答"
      ]
    },
    {
      "cell_type": "markdown",
      "metadata": {},
      "source": [
        "<details>\n",
        "<summary>解答を見る</summary>\n",
        "\n",
        "```python\n",
        "squares = [1, 4, 9, 16, 25]\n",
        "print(squares + [36, 49, 64, 81, 100])\n",
        "```\n",
        "</details>"
      ]
    },
    {
      "cell_type": "markdown",
      "metadata": {},
      "source": [
        "## Q4: cubes = [1, 8, 27, 65, 125] の誤り 65 を 64 に置き換え、修正後のリストを出力せよ。"
      ]
    },
    {
      "cell_type": "code",
      "execution_count": null,
      "id": "69f48c11",
      "metadata": {},
      "outputs": [],
      "source": [
        "cubes = [1, 8, 27, 65, 125]\n",
        "\n",
        "# 以下に回答\n"
      ]
    },
    {
      "cell_type": "markdown",
      "metadata": {},
      "source": [
        "<details>\n",
        "<summary>解答を見る</summary>\n",
        "\n",
        "```python\n",
        "cubes = [1, 8, 27, 65, 125]\n",
        "cubes[3] = 64\n",
        "print(cubes)\n",
        "```\n",
        "</details>"
      ]
    },
    {
      "cell_type": "markdown",
      "metadata": {},
      "source": [
        "## Q5: cubes = [1, 8, 27, 64, 125] の末尾に 216 と 7**3 を順に追加して出力せよ。"
      ]
    },
    {
      "cell_type": "code",
      "execution_count": null,
      "id": "1ab7e737",
      "metadata": {},
      "outputs": [],
      "source": [
        "cubes = [1, 8, 27, 65, 125]\n",
        "\n",
        "# 以下に回答\n"
      ]
    },
    {
      "cell_type": "markdown",
      "metadata": {},
      "source": [
        "<details>\n",
        "<summary>解答を見る</summary>\n",
        "\n",
        "```python\n",
        "cubes = [1, 8, 27, 64, 125]\n",
        "cubes.append(216)\n",
        "cubes.append(7**3)\n",
        "print(cubes)\n",
        "```\n",
        "</details>"
      ]
    },
    {
      "cell_type": "markdown",
      "metadata": {},
      "source": [
        "## Q6: rgb = ['Red','Green','Blue'] を rgba に代入し、rgba に 'Alph' を追加した後、rgb を出力せよ。"
      ]
    },
    {
      "cell_type": "code",
      "execution_count": null,
      "id": "a3834d97",
      "metadata": {},
      "outputs": [],
      "source": [
        "rgb = ['Red','Green','Blue']\n",
        "\n",
        "# 以下に回答"
      ]
    },
    {
      "cell_type": "markdown",
      "metadata": {},
      "source": [
        "<details>\n",
        "<summary>解答を見る</summary>\n",
        "\n",
        "```python\n",
        "rgb = ['Red','Green','Blue']\n",
        "rgba = rgb\n",
        "rgba.append('Alph')\n",
        "print(rgb)\n",
        "```\n",
        "</details>"
      ]
    },
    {
      "cell_type": "markdown",
      "metadata": {},
      "source": [
        "## Q7: rgba = ['Red','Green','Blue','Alph'] とする。このリストに対して以下を実行せよ。\n",
        "\n",
        "1. rgba の内容をコピーして、新しいリスト correct_rgba を作る。  \n",
        "2. correct_rgba の末尾 `'Alph'` を `'Alpha'` に直す。  \n",
        "3. 元の rgba も出力し、内容を確認する。\n"
      ]
    },
    {
      "cell_type": "code",
      "execution_count": null,
      "id": "f1295b35",
      "metadata": {},
      "outputs": [],
      "source": [
        "rgba = ['Red','Green','Blue','Alph']\n",
        "\n",
        "# 以下に回答\n"
      ]
    },
    {
      "cell_type": "markdown",
      "metadata": {},
      "source": [
        "<details>\n",
        "<summary>解答を見る</summary>\n",
        "\n",
        "```python\n",
        "rgba = ['Red','Green','Blue','Alph']\n",
        "correct_rgba = rgba[:]\n",
        "correct_rgba[-1] = 'Alpha'\n",
        "print(correct_rgba)\n",
        "print(rgba)\n",
        "```\n",
        "</details>"
      ]
    },
    {
      "cell_type": "markdown",
      "metadata": {},
      "source": [
        "## Q8: letters = ['a','b','c','d','e','f','g'] とする。このリストに対して以下を行い、各ステップ直後に出力せよ。  \n",
        "\n",
        "1. 真ん中の 3 要素を `['C','D','E']` に置き換える  \n",
        "2. その後、同じ位置の 3 要素を削除する  \n",
        "3. 最後にリストを空にする\n"
      ]
    },
    {
      "cell_type": "code",
      "execution_count": null,
      "id": "888b2fb0",
      "metadata": {},
      "outputs": [],
      "source": [
        "letters = ['a','b','c','d','e','f','g'] \n",
        "\n",
        "# 以下に回答\n"
      ]
    },
    {
      "cell_type": "markdown",
      "metadata": {},
      "source": [
        "<details>\n",
        "<summary>解答を見る</summary>\n",
        "\n",
        "```python\n",
        "letters = ['a','b','c','d','e','f','g']\n",
        "letters[2:5] = ['C','D','E']\n",
        "print(letters)\n",
        "letters[2:5] = []\n",
        "print(letters)\n",
        "letters[:] = []\n",
        "print(letters)\n",
        "```\n",
        "</details>"
      ]
    },
    {
      "cell_type": "markdown",
      "metadata": {},
      "source": [
        "## Q9: letters = ['a','b','c','d'] の長さを出力せよ。"
      ]
    },
    {
      "cell_type": "code",
      "execution_count": null,
      "id": "0bd78314",
      "metadata": {},
      "outputs": [],
      "source": [
        "letters = ['a','b','c','d'] \n",
        "\n",
        "# 以下に回答\n"
      ]
    },
    {
      "cell_type": "markdown",
      "metadata": {},
      "source": [
        "<details>\n",
        "<summary>解答を見る</summary>\n",
        "\n",
        "```python\n",
        "letters = ['a','b','c','d']\n",
        "print(len(letters))\n",
        "```\n",
        "</details>"
      ]
    },
    {
      "cell_type": "markdown",
      "metadata": {},
      "source": [
        "## Q10: x = [['a','b','c'], [1,2,3]] から (1) 最初の要素 (2) その中の 2 番目の要素 を取り出して順に出力せよ。"
      ]
    },
    {
      "cell_type": "code",
      "execution_count": null,
      "id": "4ca9f666",
      "metadata": {},
      "outputs": [],
      "source": [
        "x = [['a','b','c'], [1,2,3]]\n",
        "\n",
        "# 以下に回答\n"
      ]
    },
    {
      "cell_type": "markdown",
      "metadata": {},
      "source": [
        "<details>\n",
        "<summary>解答を見る</summary>\n",
        "\n",
        "```python\n",
        "x = [['a','b','c'], [1,2,3]]\n",
        "print(x[0])\n",
        "print(x[0][1])\n",
        "```\n",
        "</details>"
      ]
    }
  ],
  "metadata": {
    "kernelspec": {
      "display_name": "Python 3",
      "language": "python",
      "name": "python3"
    },
    "language_info": {
      "name": "python",
      "version": "3.11.8"
    }
  },
  "nbformat": 4,
  "nbformat_minor": 5
}
